{
 "cells": [
  {
   "cell_type": "code",
   "execution_count": 1,
   "id": "9ab82186",
   "metadata": {},
   "outputs": [],
   "source": [
    "import pandas as pd\n",
    "import re"
   ]
  },
  {
   "cell_type": "code",
   "execution_count": 2,
   "id": "e3bfc832",
   "metadata": {},
   "outputs": [
    {
     "data": {
      "text/html": [
       "<div>\n",
       "<style scoped>\n",
       "    .dataframe tbody tr th:only-of-type {\n",
       "        vertical-align: middle;\n",
       "    }\n",
       "\n",
       "    .dataframe tbody tr th {\n",
       "        vertical-align: top;\n",
       "    }\n",
       "\n",
       "    .dataframe thead th {\n",
       "        text-align: right;\n",
       "    }\n",
       "</style>\n",
       "<table border=\"1\" class=\"dataframe\">\n",
       "  <thead>\n",
       "    <tr style=\"text-align: right;\">\n",
       "      <th></th>\n",
       "      <th>CHROM</th>\n",
       "      <th>POS</th>\n",
       "      <th>ID</th>\n",
       "      <th>REF</th>\n",
       "      <th>ALT</th>\n",
       "      <th>ALLELEID</th>\n",
       "      <th>CLNREVSTAT</th>\n",
       "      <th>CLNSIG</th>\n",
       "      <th>CLNSIGCONF</th>\n",
       "      <th>CLNVC</th>\n",
       "      <th>CLNVI</th>\n",
       "      <th>GENEINFO</th>\n",
       "      <th>MC</th>\n",
       "    </tr>\n",
       "  </thead>\n",
       "  <tbody>\n",
       "    <tr>\n",
       "      <th>0</th>\n",
       "      <td>1</td>\n",
       "      <td>17018889</td>\n",
       "      <td>1468479</td>\n",
       "      <td>A</td>\n",
       "      <td>C</td>\n",
       "      <td>1358839</td>\n",
       "      <td>criteria_provided,_single_submitter</td>\n",
       "      <td>Uncertain_significance</td>\n",
       "      <td>.</td>\n",
       "      <td>single_nucleotide_variant</td>\n",
       "      <td>.</td>\n",
       "      <td>SDHB:6390</td>\n",
       "      <td>SO:0001583|missense_variant</td>\n",
       "    </tr>\n",
       "    <tr>\n",
       "      <th>1</th>\n",
       "      <td>1</td>\n",
       "      <td>17018889</td>\n",
       "      <td>657450</td>\n",
       "      <td>A</td>\n",
       "      <td>T</td>\n",
       "      <td>627077</td>\n",
       "      <td>criteria_provided,_single_submitter</td>\n",
       "      <td>Uncertain_significance</td>\n",
       "      <td>.</td>\n",
       "      <td>single_nucleotide_variant</td>\n",
       "      <td>.</td>\n",
       "      <td>SDHB:6390</td>\n",
       "      <td>SO:0001583|missense_variant</td>\n",
       "    </tr>\n",
       "    <tr>\n",
       "      <th>2</th>\n",
       "      <td>1</td>\n",
       "      <td>17018904</td>\n",
       "      <td>459174</td>\n",
       "      <td>T</td>\n",
       "      <td>C</td>\n",
       "      <td>447440</td>\n",
       "      <td>criteria_provided,_multiple_submitters,_no_con...</td>\n",
       "      <td>Uncertain_significance</td>\n",
       "      <td>.</td>\n",
       "      <td>single_nucleotide_variant</td>\n",
       "      <td>.</td>\n",
       "      <td>SDHB:6390</td>\n",
       "      <td>SO:0001583|missense_variant</td>\n",
       "    </tr>\n",
       "    <tr>\n",
       "      <th>3</th>\n",
       "      <td>1</td>\n",
       "      <td>17018906</td>\n",
       "      <td>486424</td>\n",
       "      <td>T</td>\n",
       "      <td>A</td>\n",
       "      <td>472271</td>\n",
       "      <td>criteria_provided,_multiple_submitters,_no_con...</td>\n",
       "      <td>Uncertain_significance</td>\n",
       "      <td>.</td>\n",
       "      <td>single_nucleotide_variant</td>\n",
       "      <td>.</td>\n",
       "      <td>SDHB:6390</td>\n",
       "      <td>SO:0001583|missense_variant</td>\n",
       "    </tr>\n",
       "    <tr>\n",
       "      <th>4</th>\n",
       "      <td>1</td>\n",
       "      <td>17018909</td>\n",
       "      <td>1445276</td>\n",
       "      <td>G</td>\n",
       "      <td>A</td>\n",
       "      <td>1397602</td>\n",
       "      <td>criteria_provided,_single_submitter</td>\n",
       "      <td>Uncertain_significance</td>\n",
       "      <td>.</td>\n",
       "      <td>single_nucleotide_variant</td>\n",
       "      <td>.</td>\n",
       "      <td>SDHB:6390</td>\n",
       "      <td>SO:0001583|missense_variant</td>\n",
       "    </tr>\n",
       "  </tbody>\n",
       "</table>\n",
       "</div>"
      ],
      "text/plain": [
       "  CHROM       POS       ID REF ALT  ALLELEID  \\\n",
       "0     1  17018889  1468479   A   C   1358839   \n",
       "1     1  17018889   657450   A   T    627077   \n",
       "2     1  17018904   459174   T   C    447440   \n",
       "3     1  17018906   486424   T   A    472271   \n",
       "4     1  17018909  1445276   G   A   1397602   \n",
       "\n",
       "                                          CLNREVSTAT                  CLNSIG  \\\n",
       "0                criteria_provided,_single_submitter  Uncertain_significance   \n",
       "1                criteria_provided,_single_submitter  Uncertain_significance   \n",
       "2  criteria_provided,_multiple_submitters,_no_con...  Uncertain_significance   \n",
       "3  criteria_provided,_multiple_submitters,_no_con...  Uncertain_significance   \n",
       "4                criteria_provided,_single_submitter  Uncertain_significance   \n",
       "\n",
       "  CLNSIGCONF                      CLNVC CLNVI   GENEINFO  \\\n",
       "0          .  single_nucleotide_variant     .  SDHB:6390   \n",
       "1          .  single_nucleotide_variant     .  SDHB:6390   \n",
       "2          .  single_nucleotide_variant     .  SDHB:6390   \n",
       "3          .  single_nucleotide_variant     .  SDHB:6390   \n",
       "4          .  single_nucleotide_variant     .  SDHB:6390   \n",
       "\n",
       "                            MC  \n",
       "0  SO:0001583|missense_variant  \n",
       "1  SO:0001583|missense_variant  \n",
       "2  SO:0001583|missense_variant  \n",
       "3  SO:0001583|missense_variant  \n",
       "4  SO:0001583|missense_variant  "
      ]
     },
     "execution_count": 2,
     "metadata": {},
     "output_type": "execute_result"
    }
   ],
   "source": [
    "clin_annot = pd.read_csv('clinvar.acmg.tsv', header=0, sep='\\t')\n",
    "clin_annot.head()"
   ]
  },
  {
   "cell_type": "code",
   "execution_count": 3,
   "id": "2f2f9d1e",
   "metadata": {},
   "outputs": [
    {
     "data": {
      "text/html": [
       "<div>\n",
       "<style scoped>\n",
       "    .dataframe tbody tr th:only-of-type {\n",
       "        vertical-align: middle;\n",
       "    }\n",
       "\n",
       "    .dataframe tbody tr th {\n",
       "        vertical-align: top;\n",
       "    }\n",
       "\n",
       "    .dataframe thead th {\n",
       "        text-align: right;\n",
       "    }\n",
       "</style>\n",
       "<table border=\"1\" class=\"dataframe\">\n",
       "  <thead>\n",
       "    <tr style=\"text-align: right;\">\n",
       "      <th></th>\n",
       "      <th>ALLELEID</th>\n",
       "      <th>HGVS_NAME</th>\n",
       "      <th>GENE_SYMBOL</th>\n",
       "      <th>CLINICAL_SIGNIFICANCE</th>\n",
       "    </tr>\n",
       "  </thead>\n",
       "  <tbody>\n",
       "    <tr>\n",
       "      <th>0</th>\n",
       "      <td>15048</td>\n",
       "      <td>NM_000410.4(HFE):c.845G&gt;A (p.Cys282Tyr)</td>\n",
       "      <td>HFE</td>\n",
       "      <td>Conflicting interpretations of pathogenicity; ...</td>\n",
       "    </tr>\n",
       "    <tr>\n",
       "      <th>1</th>\n",
       "      <td>15049</td>\n",
       "      <td>NM_000410.4(HFE):c.187C&gt;G (p.His63Asp)</td>\n",
       "      <td>HFE</td>\n",
       "      <td>Conflicting interpretations of pathogenicity; ...</td>\n",
       "    </tr>\n",
       "    <tr>\n",
       "      <th>2</th>\n",
       "      <td>15050</td>\n",
       "      <td>NM_000410.4(HFE):c.193A&gt;T (p.Ser65Cys)</td>\n",
       "      <td>HFE</td>\n",
       "      <td>Conflicting interpretations of pathogenicity</td>\n",
       "    </tr>\n",
       "    <tr>\n",
       "      <th>3</th>\n",
       "      <td>15051</td>\n",
       "      <td>NM_000410.4(HFE):c.314T&gt;C (p.Ile105Thr)</td>\n",
       "      <td>HFE</td>\n",
       "      <td>Uncertain significance</td>\n",
       "    </tr>\n",
       "    <tr>\n",
       "      <th>4</th>\n",
       "      <td>15052</td>\n",
       "      <td>NM_000410.4(HFE):c.277G&gt;C (p.Gly93Arg)</td>\n",
       "      <td>HFE</td>\n",
       "      <td>Pathogenic</td>\n",
       "    </tr>\n",
       "  </tbody>\n",
       "</table>\n",
       "</div>"
      ],
      "text/plain": [
       "   ALLELEID                                HGVS_NAME GENE_SYMBOL  \\\n",
       "0     15048  NM_000410.4(HFE):c.845G>A (p.Cys282Tyr)         HFE   \n",
       "1     15049   NM_000410.4(HFE):c.187C>G (p.His63Asp)         HFE   \n",
       "2     15050   NM_000410.4(HFE):c.193A>T (p.Ser65Cys)         HFE   \n",
       "3     15051  NM_000410.4(HFE):c.314T>C (p.Ile105Thr)         HFE   \n",
       "4     15052   NM_000410.4(HFE):c.277G>C (p.Gly93Arg)         HFE   \n",
       "\n",
       "                               CLINICAL_SIGNIFICANCE  \n",
       "0  Conflicting interpretations of pathogenicity; ...  \n",
       "1  Conflicting interpretations of pathogenicity; ...  \n",
       "2       Conflicting interpretations of pathogenicity  \n",
       "3                             Uncertain significance  \n",
       "4                                         Pathogenic  "
      ]
     },
     "execution_count": 3,
     "metadata": {},
     "output_type": "execute_result"
    }
   ],
   "source": [
    "clin_hgvs = pd.read_csv('variant_summary.hgvs.tsv', header=0, sep='\\t')\n",
    "clin_hgvs.columns = ['ALLELEID', 'HGVS_NAME', 'GENE_SYMBOL', 'CLINICAL_SIGNIFICANCE']\n",
    "clin_hgvs.head()"
   ]
  },
  {
   "cell_type": "code",
   "execution_count": 4,
   "id": "95dfb9e9",
   "metadata": {},
   "outputs": [],
   "source": [
    "def resolve_conflict(annotation_list):\n",
    "    \n",
    "    annots = annotation_list.split('|_')\n",
    "    \n",
    "    annot_counter = {'P/LP': 0,\n",
    "                'B/LB': 0,\n",
    "                'VUS' : 0}\n",
    "\n",
    "    for annot in annots:\n",
    "        clin_term, count = re.search(r'^(\\S+)\\((\\d+)\\)', annot).groups()\n",
    "        if clin_term in ['Pathogenic', 'Likely_pathogenic']:\n",
    "            annot_counter['P/LP'] += int(count)\n",
    "        elif clin_term in ['Benign', 'Likely_benign']:\n",
    "            annot_counter['B/LB'] += int(count)\n",
    "        elif clin_term == 'Uncertain_significance':\n",
    "            annot_counter['VUS'] += int(count)\n",
    "        else:\n",
    "            pass\n",
    "    \n",
    "    max_count = max(annot_counter, key=annot_counter.get)\n",
    "\n",
    "    if sum(map((annot_counter[max_count]).__eq__, annot_counter.values())) > 1:\n",
    "        max_count = 'VUS'\n",
    "\n",
    "    return max_count"
   ]
  },
  {
   "cell_type": "code",
   "execution_count": 5,
   "id": "4fc2345b",
   "metadata": {},
   "outputs": [],
   "source": [
    "clinical_annotations = {'Uncertain_significance': 'VUS',\n",
    "                        'Conflicting_interpretations_of_pathogenicity': 'Conflicting',\n",
    "                        'Likely_pathogenic': 'P/LP',\n",
    "                        'Pathogenic': 'P/LP',\n",
    "                        'Pathogenic/Likely_pathogenic': 'P/LP',\n",
    "                        'Likely_benign': 'B/LB',\n",
    "                        'not_provided': 'Other',\n",
    "                        'Benign': 'B/LB',\n",
    "                        'Benign/Likely_benign': 'B/LB',\n",
    "                        'Pathogenic|_drug_response': 'P/LP',\n",
    "                        'Likely_pathogenic|_drug_response': 'P/LP',\n",
    "                        'Uncertain_significance|_drug_response': 'VUS',\n",
    "                        'Conflicting_interpretations_of_pathogenicity|_other': 'Conflicting',\n",
    "                        'Benign|_other': 'B/LB',\n",
    "                        '.': 'Other',\n",
    "                        'Conflicting_interpretations_of_pathogenicity|_other|_risk_factor': 'Conflicting',\n",
    "                        'risk_factor': 'Other',\n",
    "                        'Benign/Likely_benign|_other': 'B/LB',\n",
    "                        'other': 'Other',\n",
    "                        'Pathogenic/Likely_pathogenic|_other': 'P/LP'}"
   ]
  },
  {
   "cell_type": "code",
   "execution_count": 6,
   "id": "70a3e8e5",
   "metadata": {},
   "outputs": [],
   "source": [
    "clin_annot['GROUP'] = clin_annot['CLNSIG'].map(clinical_annotations)"
   ]
  },
  {
   "cell_type": "code",
   "execution_count": 7,
   "id": "b39022f0",
   "metadata": {},
   "outputs": [],
   "source": [
    "subset_mask = clin_annot['GROUP'] == 'Conflicting'\n",
    "clin_annot.loc[subset_mask, 'GROUP'] = clin_annot.loc[subset_mask, 'CLNSIGCONF'].apply(resolve_conflict)"
   ]
  },
  {
   "cell_type": "code",
   "execution_count": 8,
   "id": "c988dfdf",
   "metadata": {},
   "outputs": [],
   "source": [
    "merged = pd.merge(clin_annot, clin_hgvs, on='ALLELEID')"
   ]
  },
  {
   "cell_type": "code",
   "execution_count": 9,
   "id": "f7824eb1",
   "metadata": {},
   "outputs": [
    {
     "data": {
      "text/plain": [
       "(25935, 17)"
      ]
     },
     "execution_count": 9,
     "metadata": {},
     "output_type": "execute_result"
    }
   ],
   "source": [
    "merged.shape"
   ]
  },
  {
   "cell_type": "code",
   "execution_count": 10,
   "id": "44f9d730",
   "metadata": {},
   "outputs": [],
   "source": [
    "# Only Cys282Tyr substitution (allele id: 15048) is considered for HFE\n",
    "merged = merged.drop(merged[(merged['GENEINFO'] == 'HFE:3077') & (merged['ALLELEID'] != 15048)].index)"
   ]
  },
  {
   "cell_type": "code",
   "execution_count": 11,
   "id": "17bced01",
   "metadata": {},
   "outputs": [],
   "source": [
    "# Remove complex substitutions\n",
    "merged['AA_CHANGE'] = merged['HGVS_NAME'].str.extract('\\(p.(\\S+)\\)')\n",
    "merged = merged.drop(merged[merged['AA_CHANGE'].str.contains('=')].index)"
   ]
  },
  {
   "cell_type": "code",
   "execution_count": 12,
   "id": "3a7a1349",
   "metadata": {},
   "outputs": [
    {
     "data": {
      "text/plain": [
       "(25847, 18)"
      ]
     },
     "execution_count": 12,
     "metadata": {},
     "output_type": "execute_result"
    }
   ],
   "source": [
    "merged.shape"
   ]
  },
  {
   "cell_type": "code",
   "execution_count": 13,
   "id": "15ee86fe",
   "metadata": {},
   "outputs": [],
   "source": [
    "merged.to_csv('../data/final_mutant_list.tsv', sep='\\t', header=True, index=False)"
   ]
  },
  {
   "cell_type": "code",
   "execution_count": 14,
   "id": "8c658e7e",
   "metadata": {},
   "outputs": [],
   "source": [
    "merged[['GENEINFO', 'AA_CHANGE', 'GROUP']].to_csv('../data/final_mutant_list.slim.tsv', sep='\\t', header=True, index=False)"
   ]
  },
  {
   "cell_type": "code",
   "execution_count": null,
   "id": "a977b979",
   "metadata": {},
   "outputs": [],
   "source": []
  }
 ],
 "metadata": {
  "kernelspec": {
   "display_name": "Python 3 (ipykernel)",
   "language": "python",
   "name": "python3"
  },
  "language_info": {
   "codemirror_mode": {
    "name": "ipython",
    "version": 3
   },
   "file_extension": ".py",
   "mimetype": "text/x-python",
   "name": "python",
   "nbconvert_exporter": "python",
   "pygments_lexer": "ipython3",
   "version": "3.9.13"
  }
 },
 "nbformat": 4,
 "nbformat_minor": 5
}
